{
  "nbformat": 4,
  "nbformat_minor": 0,
  "metadata": {
    "colab": {
      "provenance": []
    },
    "kernelspec": {
      "name": "python3",
      "display_name": "Python 3"
    },
    "language_info": {
      "name": "python"
    }
  },
  "cells": [
    {
      "cell_type": "code",
      "execution_count": 1,
      "metadata": {
        "id": "8LSuc0tXmqaq"
      },
      "outputs": [],
      "source": [
        "import random"
      ]
    },
    {
      "cell_type": "code",
      "source": [
        "secret_number = random.randint(1, 10)\n",
        "\n",
        "print(\"Welcome to the Number Guessing Game!\")\n",
        "print(\"I'm thinking of a number between 1 and 10.\")"
      ],
      "metadata": {
        "colab": {
          "base_uri": "https://localhost:8080/"
        },
        "id": "eBo1i1d9mtu2",
        "outputId": "37ddf509-67a4-4db1-b1f6-a84c9620709a"
      },
      "execution_count": 2,
      "outputs": [
        {
          "output_type": "stream",
          "name": "stdout",
          "text": [
            "Welcome to the Number Guessing Game!\n",
            "I'm thinking of a number between 1 and 10.\n"
          ]
        }
      ]
    },
    {
      "cell_type": "code",
      "source": [
        "guess = int(input(\"Take a guess: \"))\n"
      ],
      "metadata": {
        "colab": {
          "base_uri": "https://localhost:8080/"
        },
        "id": "7VPXMRE0m3ig",
        "outputId": "d927ede6-797b-49d0-97cc-5a06bc40e225"
      },
      "execution_count": 3,
      "outputs": [
        {
          "name": "stdout",
          "output_type": "stream",
          "text": [
            "Take a guess: 4\n"
          ]
        }
      ]
    },
    {
      "cell_type": "code",
      "source": [
        "if guess == secret_number:\n",
        "    print(\"Congratulations! You guessed it right!\")\n",
        "else:\n",
        "    print(f\"Sorry, the correct number was {secret_number}. Try again!\")\n",
        "\n",
        "print(\"Thanks for playing!\")"
      ],
      "metadata": {
        "colab": {
          "base_uri": "https://localhost:8080/"
        },
        "id": "63LfqCqTnDJP",
        "outputId": "b8cc0340-9beb-4a9d-adb9-85ad292907b2"
      },
      "execution_count": 4,
      "outputs": [
        {
          "output_type": "stream",
          "name": "stdout",
          "text": [
            "Sorry, the correct number was 9. Try again!\n",
            "Thanks for playing!\n"
          ]
        }
      ]
    }
  ]
}